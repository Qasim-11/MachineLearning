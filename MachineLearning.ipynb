{
  "nbformat": 4,
  "nbformat_minor": 0,
  "metadata": {
    "colab": {
      "provenance": [],
      "authorship_tag": "ABX9TyMJ9bTWUVXmnXlm0+nRXxQE",
      "include_colab_link": true
    },
    "kernelspec": {
      "name": "python3",
      "display_name": "Python 3"
    },
    "language_info": {
      "name": "python"
    }
  },
  "cells": [
    {
      "cell_type": "markdown",
      "metadata": {
        "id": "view-in-github",
        "colab_type": "text"
      },
      "source": [
        "<a href=\"https://colab.research.google.com/github/Qasim-11/MachineLearning/blob/main/MachineLearning.ipynb\" target=\"_parent\"><img src=\"https://colab.research.google.com/assets/colab-badge.svg\" alt=\"Open In Colab\"/></a>"
      ]
    },
    {
      "cell_type": "code",
      "execution_count": null,
      "metadata": {
        "colab": {
          "base_uri": "https://localhost:8080/"
        },
        "id": "wiGHHXKAyuF_",
        "outputId": "67b96987-cfb5-4cc4-afba-5bb4cedeae11"
      },
      "outputs": [
        {
          "output_type": "stream",
          "name": "stderr",
          "text": [
            "<ipython-input-10-21b37e3be1d9>:12: DeprecationWarning: In a future version, `df.iloc[:, i] = newvals` will attempt to set the values inplace instead of always setting a new array. To retain the old behavior, use either `df[df.columns[i]] = newvals` or, if columns are non-unique, `df.isetitem(i, newvals)`\n",
            "  data.iloc[:, -1] = data.iloc[:, -1].map(value_mapping)\n"
          ]
        }
      ],
      "source": [
        "from sklearn.model_selection import train_test_split\n",
        "from sklearn.metrics import accuracy_score\n",
        "import pandas as pd\n",
        "\n",
        "\n",
        "data = pd.read_csv(\"data.csv\")\n",
        "\n",
        "value_mapping = {'R': 1, 'M': 0}\n",
        "\n",
        "# Change values in the last column by indexing\n",
        "data.iloc[:, -1] = data.iloc[:, -1].map(value_mapping)\n",
        "\n"
      ]
    },
    {
      "cell_type": "markdown",
      "source": [
        "**Logistic** **Regession**"
      ],
      "metadata": {
        "id": "Di20CsDW5l3P"
      }
    },
    {
      "cell_type": "code",
      "source": [
        "\n",
        "from sklearn.linear_model import LogisticRegression\n",
        "\n",
        "\n",
        "X = data.iloc[:, :-1]  # All columns except the last one\n",
        "y = data.iloc[:, -1]   # Last column\n",
        "\n",
        "# Split the data into training and testing sets\n",
        "X_train, X_test, y_train, y_test = train_test_split(X, y, test_size=0.2, random_state=42)\n",
        "\n",
        "# Create a logistic regression model\n",
        "model = LogisticRegression()\n",
        "\n",
        "# Train the model on the training data\n",
        "model.fit(X_train, y_train)\n",
        "\n",
        "# Predict on the test data\n",
        "y_pred = model.predict(X_test)\n",
        "\n",
        "# Calculate accuracy\n",
        "accuracy = accuracy_score(y_test, y_pred)\n",
        "print(f\"Accuracy: {accuracy:.2f}\")\n",
        "\n"
      ],
      "metadata": {
        "colab": {
          "base_uri": "https://localhost:8080/"
        },
        "id": "Po0acZXZ0bRn",
        "outputId": "66468181-f2ea-42eb-aa91-10e7bbb7ad28"
      },
      "execution_count": null,
      "outputs": [
        {
          "output_type": "stream",
          "name": "stdout",
          "text": [
            "Accuracy: 0.76\n"
          ]
        }
      ]
    },
    {
      "cell_type": "markdown",
      "source": [
        "**SVC**"
      ],
      "metadata": {
        "id": "DPaB1ZwZ52H6"
      }
    },
    {
      "cell_type": "code",
      "source": [
        "\n",
        "from sklearn.svm import SVC\n",
        "\n",
        "\n",
        "# Generate a synthetic dataset\n",
        "X_train, X_test, y_train, y_test = train_test_split(X, y, test_size=0.2, random_state=42)\n",
        "\n",
        "# Create an SVM model\n",
        "model = SVC()\n",
        "\n",
        "# Train the SVM model\n",
        "model.fit(X_train, y_train)\n",
        "\n",
        "# Make predictions on the test data\n",
        "y_pred = model.predict(X_test)\n",
        "\n",
        "# Calculate accuracy\n",
        "accuracy = accuracy_score(y_test, y_pred)\n",
        "print(f\"Accuracy: {accuracy:.2f}\")\n",
        "\n"
      ],
      "metadata": {
        "colab": {
          "base_uri": "https://localhost:8080/"
        },
        "id": "GTrXAtgI1dgI",
        "outputId": "47140a3a-4a61-4454-be32-4ff1d7b426d9"
      },
      "execution_count": null,
      "outputs": [
        {
          "output_type": "stream",
          "name": "stdout",
          "text": [
            "Accuracy: 0.76\n"
          ]
        }
      ]
    },
    {
      "cell_type": "markdown",
      "source": [
        "**Naive** **Bayes**"
      ],
      "metadata": {
        "id": "mJxqL_UU55OM"
      }
    },
    {
      "cell_type": "code",
      "source": [
        "\n",
        "from sklearn.naive_bayes import MultinomialNB\n",
        "\n",
        "\n",
        "# Assuming 'data' is your DataFrame and 'Label' is the last column\n",
        "X = data.iloc[:, :-1]  # All columns except the last one\n",
        "y = data.iloc[:, -1]   # Last column\n",
        "\n",
        "\n",
        "# Split the data into training and testing sets\n",
        "X_train, X_test, y_train, y_test = train_test_split(X, y, test_size=0.2, random_state=42)\n",
        "\n",
        "# Create a Naive Bayes model (Multinomial Naive Bayes)\n",
        "model = MultinomialNB()\n",
        "\n",
        "# Train the model on the training data\n",
        "model.fit(X_train, y_train)\n",
        "\n",
        "# Predict on the test data\n",
        "y_pred = model.predict(X_test)\n",
        "\n",
        "# Calculate accuracy\n",
        "accuracy = accuracy_score(y_test, y_pred)\n",
        "print(f\"Accuracy: {accuracy:.2f}\")\n"
      ],
      "metadata": {
        "colab": {
          "base_uri": "https://localhost:8080/"
        },
        "id": "h9kNLlaK1e1t",
        "outputId": "788bbed6-1a02-49cd-f54e-1c5bc5b1bdcb"
      },
      "execution_count": null,
      "outputs": [
        {
          "output_type": "stream",
          "name": "stdout",
          "text": [
            "Accuracy: 0.74\n"
          ]
        }
      ]
    },
    {
      "cell_type": "markdown",
      "source": [
        "**KNN**"
      ],
      "metadata": {
        "id": "XSfb1bxT6AoA"
      }
    },
    {
      "cell_type": "code",
      "source": [
        "\n",
        "from sklearn.neighbors import KNeighborsClassifier\n",
        "\n",
        "# Assuming 'data' is your DataFrame and 'Label' is the last column\n",
        "X = data.iloc[:, :-1]  # All columns except the last one\n",
        "y = data.iloc[:, -1]   # Last column\n",
        "\n",
        "# Split the data into training and testing sets\n",
        "X_train, X_test, y_train, y_test = train_test_split(X, y, test_size=0.2, random_state=42)\n",
        "\n",
        "# Create a KNN model\n",
        "model = KNeighborsClassifier()\n",
        "\n",
        "# Train the model on the training data\n",
        "model.fit(X_train, y_train)\n",
        "\n",
        "# Predict on the test data\n",
        "y_pred = model.predict(X_test)\n",
        "\n",
        "# Calculate accuracy\n",
        "accuracy = accuracy_score(y_test, y_pred)\n",
        "print(f\"Accuracy: {accuracy:.2f}\")\n"
      ],
      "metadata": {
        "colab": {
          "base_uri": "https://localhost:8080/"
        },
        "id": "rxcXn7mp3e-m",
        "outputId": "f702111b-820b-4e53-8f88-41818dc9b555"
      },
      "execution_count": null,
      "outputs": [
        {
          "output_type": "stream",
          "name": "stdout",
          "text": [
            "Accuracy: 0.74\n"
          ]
        }
      ]
    },
    {
      "cell_type": "markdown",
      "source": [
        "**Neural** **Network**"
      ],
      "metadata": {
        "id": "29WmyZ_46Bwo"
      }
    },
    {
      "cell_type": "code",
      "source": [
        "\n",
        "from sklearn.preprocessing import StandardScaler\n",
        "from keras.models import Sequential\n",
        "from keras.layers import Dense\n",
        "\n",
        "# Assuming 'data' is your DataFrame and 'Label' is the last column\n",
        "X = data.iloc[:, :-1].values  # Convert DataFrame to numpy array\n",
        "y = data.iloc[:, -1].values   # Convert Series to numpy array\n",
        "\n",
        "# Split the data into training and testing sets\n",
        "X_train, X_test, y_train, y_test = train_test_split(X, y, test_size=0.2, random_state=42)\n",
        "\n",
        "# Standardize features\n",
        "scaler = StandardScaler()\n",
        "X_train_scaled = scaler.fit_transform(X_train)\n",
        "X_test_scaled = scaler.transform(X_test)\n",
        "\n",
        "# Create a neural network model\n",
        "model = Sequential()\n",
        "model.add(Dense(units=16, activation='relu', input_dim=X_train.shape[1]))\n",
        "model.add(Dense(units=1, activation='sigmoid'))\n",
        "\n",
        "# Compile the model\n",
        "model.compile(loss='binary_crossentropy', optimizer='adam', metrics=['accuracy'])\n",
        "\n",
        "# Train the model\n",
        "model.fit(X_train_scaled, y_train, epochs=100, batch_size=8, verbose=1)\n",
        "\n",
        "# Evaluate the model on the test data\n",
        "loss, accuracy = model.evaluate(X_test_scaled, y_test)\n",
        "print(f\"Loss: {loss:.4f}, Accuracy: {accuracy:.2f}\")\n"
      ],
      "metadata": {
        "colab": {
          "base_uri": "https://localhost:8080/"
        },
        "id": "K2HkUxGB33-Z",
        "outputId": "801ff28c-0a83-487e-cc51-ad5e1959a859"
      },
      "execution_count": null,
      "outputs": [
        {
          "output_type": "stream",
          "name": "stdout",
          "text": [
            "Epoch 1/100\n",
            "21/21 [==============================] - 5s 10ms/step - loss: 0.6903 - accuracy: 0.6061\n",
            "Epoch 2/100\n",
            "21/21 [==============================] - 0s 9ms/step - loss: 0.5917 - accuracy: 0.7030\n",
            "Epoch 3/100\n",
            "21/21 [==============================] - 0s 8ms/step - loss: 0.5240 - accuracy: 0.7394\n",
            "Epoch 4/100\n",
            "21/21 [==============================] - 0s 11ms/step - loss: 0.4790 - accuracy: 0.8000\n",
            "Epoch 5/100\n",
            "21/21 [==============================] - 0s 7ms/step - loss: 0.4414 - accuracy: 0.8364\n",
            "Epoch 6/100\n",
            "21/21 [==============================] - 0s 7ms/step - loss: 0.4096 - accuracy: 0.8545\n",
            "Epoch 7/100\n",
            "21/21 [==============================] - 0s 8ms/step - loss: 0.3830 - accuracy: 0.8727\n",
            "Epoch 8/100\n",
            "21/21 [==============================] - 0s 6ms/step - loss: 0.3584 - accuracy: 0.8727\n",
            "Epoch 9/100\n",
            "21/21 [==============================] - 0s 5ms/step - loss: 0.3377 - accuracy: 0.8727\n",
            "Epoch 10/100\n",
            "21/21 [==============================] - 0s 10ms/step - loss: 0.3166 - accuracy: 0.8788\n",
            "Epoch 11/100\n",
            "21/21 [==============================] - 0s 5ms/step - loss: 0.2993 - accuracy: 0.8970\n",
            "Epoch 12/100\n",
            "21/21 [==============================] - 0s 6ms/step - loss: 0.2817 - accuracy: 0.9030\n",
            "Epoch 13/100\n",
            "21/21 [==============================] - 0s 4ms/step - loss: 0.2678 - accuracy: 0.9091\n",
            "Epoch 14/100\n",
            "21/21 [==============================] - 0s 3ms/step - loss: 0.2533 - accuracy: 0.9273\n",
            "Epoch 15/100\n",
            "21/21 [==============================] - 0s 3ms/step - loss: 0.2383 - accuracy: 0.9394\n",
            "Epoch 16/100\n",
            "21/21 [==============================] - 0s 3ms/step - loss: 0.2253 - accuracy: 0.9515\n",
            "Epoch 17/100\n",
            "21/21 [==============================] - 0s 4ms/step - loss: 0.2128 - accuracy: 0.9636\n",
            "Epoch 18/100\n",
            "21/21 [==============================] - 0s 4ms/step - loss: 0.2013 - accuracy: 0.9636\n",
            "Epoch 19/100\n",
            "21/21 [==============================] - 0s 2ms/step - loss: 0.1900 - accuracy: 0.9636\n",
            "Epoch 20/100\n",
            "21/21 [==============================] - 0s 2ms/step - loss: 0.1807 - accuracy: 0.9758\n",
            "Epoch 21/100\n",
            "21/21 [==============================] - 0s 2ms/step - loss: 0.1707 - accuracy: 0.9758\n",
            "Epoch 22/100\n",
            "21/21 [==============================] - 0s 2ms/step - loss: 0.1616 - accuracy: 0.9818\n",
            "Epoch 23/100\n",
            "21/21 [==============================] - 0s 2ms/step - loss: 0.1543 - accuracy: 0.9818\n",
            "Epoch 24/100\n",
            "21/21 [==============================] - 0s 2ms/step - loss: 0.1454 - accuracy: 0.9818\n",
            "Epoch 25/100\n",
            "21/21 [==============================] - 0s 2ms/step - loss: 0.1374 - accuracy: 0.9879\n",
            "Epoch 26/100\n",
            "21/21 [==============================] - 0s 2ms/step - loss: 0.1304 - accuracy: 0.9818\n",
            "Epoch 27/100\n",
            "21/21 [==============================] - 0s 2ms/step - loss: 0.1237 - accuracy: 0.9879\n",
            "Epoch 28/100\n",
            "21/21 [==============================] - 0s 2ms/step - loss: 0.1175 - accuracy: 0.9879\n",
            "Epoch 29/100\n",
            "21/21 [==============================] - 0s 2ms/step - loss: 0.1118 - accuracy: 0.9879\n",
            "Epoch 30/100\n",
            "21/21 [==============================] - 0s 2ms/step - loss: 0.1063 - accuracy: 0.9879\n",
            "Epoch 31/100\n",
            "21/21 [==============================] - 0s 2ms/step - loss: 0.1005 - accuracy: 0.9879\n",
            "Epoch 32/100\n",
            "21/21 [==============================] - 0s 2ms/step - loss: 0.0948 - accuracy: 1.0000\n",
            "Epoch 33/100\n",
            "21/21 [==============================] - 0s 2ms/step - loss: 0.0902 - accuracy: 1.0000\n",
            "Epoch 34/100\n",
            "21/21 [==============================] - 0s 2ms/step - loss: 0.0863 - accuracy: 1.0000\n",
            "Epoch 35/100\n",
            "21/21 [==============================] - 0s 2ms/step - loss: 0.0815 - accuracy: 1.0000\n",
            "Epoch 36/100\n",
            "21/21 [==============================] - 0s 2ms/step - loss: 0.0779 - accuracy: 1.0000\n",
            "Epoch 37/100\n",
            "21/21 [==============================] - 0s 2ms/step - loss: 0.0740 - accuracy: 1.0000\n",
            "Epoch 38/100\n",
            "21/21 [==============================] - 0s 2ms/step - loss: 0.0703 - accuracy: 1.0000\n",
            "Epoch 39/100\n",
            "21/21 [==============================] - 0s 2ms/step - loss: 0.0675 - accuracy: 1.0000\n",
            "Epoch 40/100\n",
            "21/21 [==============================] - 0s 2ms/step - loss: 0.0644 - accuracy: 1.0000\n",
            "Epoch 41/100\n",
            "21/21 [==============================] - 0s 2ms/step - loss: 0.0614 - accuracy: 1.0000\n",
            "Epoch 42/100\n",
            "21/21 [==============================] - 0s 2ms/step - loss: 0.0587 - accuracy: 1.0000\n",
            "Epoch 43/100\n",
            "21/21 [==============================] - 0s 2ms/step - loss: 0.0559 - accuracy: 1.0000\n",
            "Epoch 44/100\n",
            "21/21 [==============================] - 0s 2ms/step - loss: 0.0534 - accuracy: 1.0000\n",
            "Epoch 45/100\n",
            "21/21 [==============================] - 0s 2ms/step - loss: 0.0515 - accuracy: 1.0000\n",
            "Epoch 46/100\n",
            "21/21 [==============================] - 0s 2ms/step - loss: 0.0491 - accuracy: 1.0000\n",
            "Epoch 47/100\n",
            "21/21 [==============================] - 0s 2ms/step - loss: 0.0470 - accuracy: 1.0000\n",
            "Epoch 48/100\n",
            "21/21 [==============================] - 0s 2ms/step - loss: 0.0452 - accuracy: 1.0000\n",
            "Epoch 49/100\n",
            "21/21 [==============================] - 0s 2ms/step - loss: 0.0432 - accuracy: 1.0000\n",
            "Epoch 50/100\n",
            "21/21 [==============================] - 0s 2ms/step - loss: 0.0415 - accuracy: 1.0000\n",
            "Epoch 51/100\n",
            "21/21 [==============================] - 0s 2ms/step - loss: 0.0398 - accuracy: 1.0000\n",
            "Epoch 52/100\n",
            "21/21 [==============================] - 0s 2ms/step - loss: 0.0380 - accuracy: 1.0000\n",
            "Epoch 53/100\n",
            "21/21 [==============================] - 0s 2ms/step - loss: 0.0367 - accuracy: 1.0000\n",
            "Epoch 54/100\n",
            "21/21 [==============================] - 0s 2ms/step - loss: 0.0354 - accuracy: 1.0000\n",
            "Epoch 55/100\n",
            "21/21 [==============================] - 0s 2ms/step - loss: 0.0341 - accuracy: 1.0000\n",
            "Epoch 56/100\n",
            "21/21 [==============================] - 0s 2ms/step - loss: 0.0328 - accuracy: 1.0000\n",
            "Epoch 57/100\n",
            "21/21 [==============================] - 0s 2ms/step - loss: 0.0315 - accuracy: 1.0000\n",
            "Epoch 58/100\n",
            "21/21 [==============================] - 0s 2ms/step - loss: 0.0303 - accuracy: 1.0000\n",
            "Epoch 59/100\n",
            "21/21 [==============================] - 0s 2ms/step - loss: 0.0293 - accuracy: 1.0000\n",
            "Epoch 60/100\n",
            "21/21 [==============================] - 0s 2ms/step - loss: 0.0282 - accuracy: 1.0000\n",
            "Epoch 61/100\n",
            "21/21 [==============================] - 0s 2ms/step - loss: 0.0273 - accuracy: 1.0000\n",
            "Epoch 62/100\n",
            "21/21 [==============================] - 0s 2ms/step - loss: 0.0263 - accuracy: 1.0000\n",
            "Epoch 63/100\n",
            "21/21 [==============================] - 0s 2ms/step - loss: 0.0252 - accuracy: 1.0000\n",
            "Epoch 64/100\n",
            "21/21 [==============================] - 0s 2ms/step - loss: 0.0244 - accuracy: 1.0000\n",
            "Epoch 65/100\n",
            "21/21 [==============================] - 0s 2ms/step - loss: 0.0235 - accuracy: 1.0000\n",
            "Epoch 66/100\n",
            "21/21 [==============================] - 0s 2ms/step - loss: 0.0227 - accuracy: 1.0000\n",
            "Epoch 67/100\n",
            "21/21 [==============================] - 0s 2ms/step - loss: 0.0220 - accuracy: 1.0000\n",
            "Epoch 68/100\n",
            "21/21 [==============================] - 0s 2ms/step - loss: 0.0213 - accuracy: 1.0000\n",
            "Epoch 69/100\n",
            "21/21 [==============================] - 0s 2ms/step - loss: 0.0208 - accuracy: 1.0000\n",
            "Epoch 70/100\n",
            "21/21 [==============================] - 0s 2ms/step - loss: 0.0199 - accuracy: 1.0000\n",
            "Epoch 71/100\n",
            "21/21 [==============================] - 0s 2ms/step - loss: 0.0192 - accuracy: 1.0000\n",
            "Epoch 72/100\n",
            "21/21 [==============================] - 0s 2ms/step - loss: 0.0186 - accuracy: 1.0000\n",
            "Epoch 73/100\n",
            "21/21 [==============================] - 0s 2ms/step - loss: 0.0180 - accuracy: 1.0000\n",
            "Epoch 74/100\n",
            "21/21 [==============================] - 0s 2ms/step - loss: 0.0175 - accuracy: 1.0000\n",
            "Epoch 75/100\n",
            "21/21 [==============================] - 0s 2ms/step - loss: 0.0169 - accuracy: 1.0000\n",
            "Epoch 76/100\n",
            "21/21 [==============================] - 0s 2ms/step - loss: 0.0164 - accuracy: 1.0000\n",
            "Epoch 77/100\n",
            "21/21 [==============================] - 0s 2ms/step - loss: 0.0159 - accuracy: 1.0000\n",
            "Epoch 78/100\n",
            "21/21 [==============================] - 0s 2ms/step - loss: 0.0154 - accuracy: 1.0000\n",
            "Epoch 79/100\n",
            "21/21 [==============================] - 0s 2ms/step - loss: 0.0149 - accuracy: 1.0000\n",
            "Epoch 80/100\n",
            "21/21 [==============================] - 0s 2ms/step - loss: 0.0145 - accuracy: 1.0000\n",
            "Epoch 81/100\n",
            "21/21 [==============================] - 0s 2ms/step - loss: 0.0140 - accuracy: 1.0000\n",
            "Epoch 82/100\n",
            "21/21 [==============================] - 0s 2ms/step - loss: 0.0136 - accuracy: 1.0000\n",
            "Epoch 83/100\n",
            "21/21 [==============================] - 0s 2ms/step - loss: 0.0132 - accuracy: 1.0000\n",
            "Epoch 84/100\n",
            "21/21 [==============================] - 0s 2ms/step - loss: 0.0129 - accuracy: 1.0000\n",
            "Epoch 85/100\n",
            "21/21 [==============================] - 0s 2ms/step - loss: 0.0125 - accuracy: 1.0000\n",
            "Epoch 86/100\n",
            "21/21 [==============================] - 0s 2ms/step - loss: 0.0121 - accuracy: 1.0000\n",
            "Epoch 87/100\n",
            "21/21 [==============================] - 0s 2ms/step - loss: 0.0118 - accuracy: 1.0000\n",
            "Epoch 88/100\n",
            "21/21 [==============================] - 0s 2ms/step - loss: 0.0115 - accuracy: 1.0000\n",
            "Epoch 89/100\n",
            "21/21 [==============================] - 0s 2ms/step - loss: 0.0112 - accuracy: 1.0000\n",
            "Epoch 90/100\n",
            "21/21 [==============================] - 0s 2ms/step - loss: 0.0108 - accuracy: 1.0000\n",
            "Epoch 91/100\n",
            "21/21 [==============================] - 0s 2ms/step - loss: 0.0105 - accuracy: 1.0000\n",
            "Epoch 92/100\n",
            "21/21 [==============================] - 0s 2ms/step - loss: 0.0103 - accuracy: 1.0000\n",
            "Epoch 93/100\n",
            "21/21 [==============================] - 0s 2ms/step - loss: 0.0100 - accuracy: 1.0000\n",
            "Epoch 94/100\n",
            "21/21 [==============================] - 0s 2ms/step - loss: 0.0097 - accuracy: 1.0000\n",
            "Epoch 95/100\n",
            "21/21 [==============================] - 0s 2ms/step - loss: 0.0095 - accuracy: 1.0000\n",
            "Epoch 96/100\n",
            "21/21 [==============================] - 0s 2ms/step - loss: 0.0092 - accuracy: 1.0000\n",
            "Epoch 97/100\n",
            "21/21 [==============================] - 0s 2ms/step - loss: 0.0090 - accuracy: 1.0000\n",
            "Epoch 98/100\n",
            "21/21 [==============================] - 0s 2ms/step - loss: 0.0088 - accuracy: 1.0000\n",
            "Epoch 99/100\n",
            "21/21 [==============================] - 0s 2ms/step - loss: 0.0085 - accuracy: 1.0000\n",
            "Epoch 100/100\n",
            "21/21 [==============================] - 0s 2ms/step - loss: 0.0084 - accuracy: 1.0000\n",
            "2/2 [==============================] - 0s 10ms/step - loss: 1.1612 - accuracy: 0.7143\n",
            "Loss: 1.1612, Accuracy: 0.71\n"
          ]
        }
      ]
    }
  ]
}